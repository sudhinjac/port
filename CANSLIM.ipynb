{
 "cells": [
  {
   "cell_type": "code",
   "execution_count": 1,
   "id": "9801db1c",
   "metadata": {},
   "outputs": [
    {
     "name": "stdout",
     "output_type": "stream",
     "text": [
      "Selected Stocks based on CANSLIM Criteria:\n",
      "Empty DataFrame\n",
      "Columns: [Ticker, Quarterly Earnings Growth (%), Annual Earnings Growth (%), Relative Strength (%), Average Volume (50-day), Current Price]\n",
      "Index: []\n"
     ]
    }
   ],
   "source": [
    "import yfinance as yf\n",
    "import pandas as pd\n",
    "import numpy as np\n",
    "\n",
    "# Define a list of stock tickers for screening\n",
    "tickers = [\"AAPL\", \"MSFT\", \"NVDA\", \"TSLA\", \"AMZN\", \"GOOGL\"]\n",
    "\n",
    "# Function to fetch data and calculate CANSLIM metrics\n",
    "def get_canslim_metrics(ticker):\n",
    "    stock = yf.Ticker(ticker)\n",
    "\n",
    "    # Fetch financials and history data\n",
    "    financials = stock.financials\n",
    "    history = stock.history(period=\"2y\")  # Get last 2 years of price data\n",
    "\n",
    "    # Calculate the 'C' and 'A' metrics\n",
    "    quarterly_earnings_growth = (financials.loc['Net Income'].pct_change(periods=1) * 100).iloc[-1]  # YOY Quarterly Earnings Growth\n",
    "    annual_earnings_growth = (financials.loc['Net Income'].pct_change(periods=4) * 100).iloc[-1]  # YOY Annual Earnings Growth\n",
    "\n",
    "    # Calculate the 'S' and 'L' metrics\n",
    "    current_price = history[\"Close\"].iloc[-1]\n",
    "    year_high = history[\"Close\"].max()\n",
    "    year_low = history[\"Close\"].min()\n",
    "    relative_strength = ((current_price - year_low) / (year_high - year_low)) * 100  # Normalize to 100 scale\n",
    "\n",
    "    # Check Institutional Sponsorship ('I') - High volume implies institutional interest\n",
    "    avg_volume = history[\"Volume\"].rolling(window=50).mean().iloc[-1]\n",
    "\n",
    "    return {\n",
    "        \"Ticker\": ticker,\n",
    "        \"Quarterly Earnings Growth (%)\": quarterly_earnings_growth,\n",
    "        \"Annual Earnings Growth (%)\": annual_earnings_growth,\n",
    "        \"Relative Strength (%)\": relative_strength,\n",
    "        \"Average Volume (50-day)\": avg_volume,\n",
    "        \"Current Price\": current_price\n",
    "    }\n",
    "\n",
    "# Collect CANSLIM metrics for each ticker\n",
    "metrics = [get_canslim_metrics(ticker) for ticker in tickers]\n",
    "canslim_df = pd.DataFrame(metrics)\n",
    "\n",
    "# Set CANSLIM criteria thresholds\n",
    "canslim_criteria = {\n",
    "    \"Quarterly Earnings Growth (%)\": 20,  # at least 20% growth\n",
    "    \"Annual Earnings Growth (%)\": 15,     # at least 15% growth\n",
    "    \"Relative Strength (%)\": 80,          # Relative strength in the top 20%\n",
    "    \"Average Volume (50-day)\": 5000000,   # Prefer high-volume stocks for institutional support\n",
    "}\n",
    "\n",
    "# Filter stocks based on CANSLIM criteria\n",
    "selected_stocks = canslim_df[\n",
    "    (canslim_df[\"Quarterly Earnings Growth (%)\"] > canslim_criteria[\"Quarterly Earnings Growth (%)\"]) &\n",
    "    (canslim_df[\"Annual Earnings Growth (%)\"] > canslim_criteria[\"Annual Earnings Growth (%)\"]) &\n",
    "    (canslim_df[\"Relative Strength (%)\"] > canslim_criteria[\"Relative Strength (%)\"]) &\n",
    "    (canslim_df[\"Average Volume (50-day)\"] > canslim_criteria[\"Average Volume (50-day)\"])\n",
    "]\n",
    "\n",
    "# Display the selected stocks\n",
    "print(\"Selected Stocks based on CANSLIM Criteria:\")\n",
    "print(selected_stocks)"
   ]
  },
  {
   "cell_type": "code",
   "execution_count": null,
   "id": "fd1a6510",
   "metadata": {},
   "outputs": [],
   "source": []
  }
 ],
 "metadata": {
  "kernelspec": {
   "display_name": "Python 3 (ipykernel)",
   "language": "python",
   "name": "python3"
  },
  "language_info": {
   "codemirror_mode": {
    "name": "ipython",
    "version": 3
   },
   "file_extension": ".py",
   "mimetype": "text/x-python",
   "name": "python",
   "nbconvert_exporter": "python",
   "pygments_lexer": "ipython3",
   "version": "3.11.5"
  }
 },
 "nbformat": 4,
 "nbformat_minor": 5
}
